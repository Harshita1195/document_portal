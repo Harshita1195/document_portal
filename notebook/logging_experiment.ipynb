{
 "cells": [
  {
   "cell_type": "code",
   "execution_count": 1,
   "id": "f9ce061d",
   "metadata": {},
   "outputs": [],
   "source": [
    "import logging\n",
    "import os\n",
    "from datetime import datetime"
   ]
  },
  {
   "cell_type": "code",
   "execution_count": 2,
   "id": "e8c123b8",
   "metadata": {},
   "outputs": [],
   "source": [
    "logs_dir = os.path.join(os.getcwd(), 'logs')"
   ]
  },
  {
   "cell_type": "code",
   "execution_count": 3,
   "id": "dd88374c",
   "metadata": {},
   "outputs": [],
   "source": [
    "os.makedirs(logs_dir, exist_ok=True)"
   ]
  },
  {
   "cell_type": "code",
   "execution_count": 4,
   "id": "1a2d1627",
   "metadata": {},
   "outputs": [],
   "source": [
    "log_file=f\"{datetime.now().strftime('%Y-%m-%d_%H-%M-%S')}.log\""
   ]
  },
  {
   "cell_type": "code",
   "execution_count": 5,
   "id": "eb6785c1",
   "metadata": {},
   "outputs": [
    {
     "data": {
      "text/plain": [
       "'2025-07-26_16-27-31.log'"
      ]
     },
     "execution_count": 5,
     "metadata": {},
     "output_type": "execute_result"
    }
   ],
   "source": [
    "log_file"
   ]
  },
  {
   "cell_type": "code",
   "execution_count": 6,
   "id": "bb93f431",
   "metadata": {},
   "outputs": [],
   "source": [
    "log_file_path = os.path.join(logs_dir, log_file)"
   ]
  },
  {
   "cell_type": "code",
   "execution_count": 7,
   "id": "bff33578",
   "metadata": {},
   "outputs": [],
   "source": [
    "logging.basicConfig(\n",
    "    filename=log_file_path,\n",
    "    level=logging.INFO,\n",
    "    format='%(asctime)s - %(levelname)s - %(message)s'\n",
    ")"
   ]
  },
  {
   "cell_type": "code",
   "execution_count": 8,
   "id": "8d631e06",
   "metadata": {},
   "outputs": [],
   "source": [
    "logger = logging.getLogger(\"documentportal\")"
   ]
  },
  {
   "cell_type": "code",
   "execution_count": 9,
   "id": "44a96bd9",
   "metadata": {},
   "outputs": [],
   "source": [
    "logger.info(\"Logging setup complete.\")"
   ]
  },
  {
   "cell_type": "code",
   "execution_count": 10,
   "id": "fa0b19cd",
   "metadata": {},
   "outputs": [],
   "source": [
    "import structlog"
   ]
  },
  {
   "cell_type": "code",
   "execution_count": 11,
   "id": "836060ca",
   "metadata": {},
   "outputs": [],
   "source": [
    "logger = structlog.get_logger()"
   ]
  },
  {
   "cell_type": "code",
   "execution_count": 12,
   "id": "f604a566",
   "metadata": {},
   "outputs": [
    {
     "name": "stdout",
     "output_type": "stream",
     "text": [
      "2025-07-26 16:27:31 [info     ] Structlog setup complete.      filename=log_file.pdf user_id=123\n"
     ]
    }
   ],
   "source": [
    "logger.info(\"Structlog setup complete.\", user_id=123, filename =\"log_file.pdf\")"
   ]
  },
  {
   "cell_type": "code",
   "execution_count": null,
   "id": "b9ee7298",
   "metadata": {},
   "outputs": [],
   "source": []
  }
 ],
 "metadata": {
  "kernelspec": {
   "display_name": "Python 3",
   "language": "python",
   "name": "python3"
  },
  "language_info": {
   "codemirror_mode": {
    "name": "ipython",
    "version": 3
   },
   "file_extension": ".py",
   "mimetype": "text/x-python",
   "name": "python",
   "nbconvert_exporter": "python",
   "pygments_lexer": "ipython3",
   "version": "3.10.18"
  }
 },
 "nbformat": 4,
 "nbformat_minor": 5
}
